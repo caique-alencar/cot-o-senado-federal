{
 "cells": [
  {
   "cell_type": "code",
   "execution_count": null,
   "metadata": {},
   "outputs": [
    {
     "name": "stdout",
     "output_type": "stream",
     "text": [
      "2008 pronto!\n",
      "2009 pronto!\n",
      "2010 pronto!\n",
      "2011 pronto!\n",
      "2012 pronto!\n",
      "2013 pronto!\n",
      "2014 pronto!\n",
      "2015 pronto!\n",
      "2016 pronto!\n",
      "2017 pronto!\n",
      "2018 pronto!\n",
      "2019 pronto!\n"
     ]
    }
   ],
   "source": [
    "import os\n",
    "import shutil\n",
    "import glob\n",
    "from urllib.request import urlretrieve\n",
    "from datetime import datetime\n",
    "\n",
    "# Define que o ano atual é o vigente\n",
    "ano_atual = datetime.now().year\n",
    "\n",
    "# Função que faz a raspagem dos dados\n",
    "def main():\n",
    "    # Se não existir, cria uma pasta para salvar os CSV raspados\n",
    "    if not os.path.exists('dados_cotao_senado'):\n",
    "        os.makedirs('dados_cotao_senado')\n",
    "\n",
    "    # Para cada ano de 2008 até o ano atual\n",
    "    for ano in range(2008, ano_atual + 1):\n",
    "        # Define a url do ano\n",
    "        url = (f'http://www.senado.gov.br/transparencia/LAI/verba/{ano}.csv')\n",
    "        # Recupera o arquivo zip com base na url\n",
    "        urlretrieve(url, f'dados_cotao_senado/Ano-{ano}.csv')\n",
    "        print(f\"{ano} pronto!\")\n",
    "        \n",
    "    # Junta todos os CSVs em um único arquivo\n",
    "    todos = glob.glob('dados_cotao_senado/*.csv')\n",
    "    with open('dados_cotao_senado/senado_final.csv', 'wb') as saida:\n",
    "        for i, arquivo in enumerate(todos):\n",
    "            with open(arquivo, 'rb') as original:\n",
    "                if i != 0:\n",
    "                    original.readline()\n",
    "                shutil.copyfileobj(original, saida)\n",
    "\n",
    "# Chama a função main que faz a raspagem\n",
    "if __name__ == '__main__':\n",
    "    main()\n",
    "\n",
    "# Mensagem de aviso que o programa terminou de rodar\n",
    "print(\"Terminei!\")"
   ]
  },
  {
   "cell_type": "code",
   "execution_count": null,
   "metadata": {},
   "outputs": [],
   "source": []
  }
 ],
 "metadata": {
  "kernelspec": {
   "display_name": "Python 3",
   "language": "python",
   "name": "python3"
  },
  "language_info": {
   "codemirror_mode": {
    "name": "ipython",
    "version": 3
   },
   "file_extension": ".py",
   "mimetype": "text/x-python",
   "name": "python",
   "nbconvert_exporter": "python",
   "pygments_lexer": "ipython3",
   "version": "3.6.4"
  }
 },
 "nbformat": 4,
 "nbformat_minor": 2
}
